{
 "cells": [
  {
   "cell_type": "markdown",
   "metadata": {},
   "source": [
    "# 1. Importing libraries"
   ]
  },
  {
   "cell_type": "code",
   "execution_count": 61,
   "metadata": {},
   "outputs": [],
   "source": [
    "import statistics\n",
    "import pandas as pd\n",
    "from random import sample\n",
    "from scipy.stats import shapiro\n",
    "import scipy.stats as stats\n",
    "from scipy.stats import mannwhitneyu\n",
    "import numpy as np\n",
    "import seaborn as sns\n",
    "import matplotlib.pyplot as plt\n",
    "import zipfile"
   ]
  },
  {
   "cell_type": "markdown",
   "metadata": {},
   "source": [
    "# 2.Loading the dataset and cleaning"
   ]
  },
  {
   "cell_type": "code",
   "execution_count": 19,
   "metadata": {},
   "outputs": [],
   "source": [
    "archive = zipfile.ZipFile('marketing_AB.csv.zip', 'r')\n",
    "df = pd.read_csv(archive.open('marketing_AB.csv')).iloc[:, 1:]"
   ]
  },
  {
   "cell_type": "code",
   "execution_count": 20,
   "metadata": {},
   "outputs": [],
   "source": [
    "df.rename(columns=lambda x: x.replace(' ', '_'), inplace=True)"
   ]
  },
  {
   "cell_type": "markdown",
   "metadata": {},
   "source": [
    "# 3. Data characteristics"
   ]
  },
  {
   "cell_type": "markdown",
   "metadata": {},
   "source": [
    "Variables:\n",
    "- user_id: unique customer identifier\n",
    "- test_group: control (psa) are ones who saw public service announcement, experimental (ads) are the ones who saw the ad\n",
    "- converted: False - did not buy the product, True - bought the product\n",
    "- total_ads: the number of ads seen by the customer\n",
    "- most_ads_day: the day of the week the customer saw the most ads \n",
    "- most_ads_hour: the hour of the day the customer saw the most ads "
   ]
  },
  {
   "cell_type": "code",
   "execution_count": 22,
   "metadata": {},
   "outputs": [
    {
     "name": "stdout",
     "output_type": "stream",
     "text": [
      "<class 'pandas.core.frame.DataFrame'>\n",
      "RangeIndex: 588101 entries, 0 to 588100\n",
      "Data columns (total 6 columns):\n",
      " #   Column         Non-Null Count   Dtype \n",
      "---  ------         --------------   ----- \n",
      " 0   user_id        588101 non-null  int64 \n",
      " 1   test_group     588101 non-null  object\n",
      " 2   converted      588101 non-null  bool  \n",
      " 3   total_ads      588101 non-null  int64 \n",
      " 4   most_ads_day   588101 non-null  object\n",
      " 5   most_ads_hour  588101 non-null  int64 \n",
      "dtypes: bool(1), int64(3), object(2)\n",
      "memory usage: 23.0+ MB\n"
     ]
    }
   ],
   "source": [
    "df.info()"
   ]
  },
  {
   "cell_type": "markdown",
   "metadata": {},
   "source": [
    "Results: \n",
    "- Sample size is 588101\n",
    "- There are no missing values."
   ]
  },
  {
   "cell_type": "code",
   "execution_count": 26,
   "metadata": {},
   "outputs": [
    {
     "data": {
      "text/plain": [
       "test_group\n",
       "ad     564577\n",
       "psa     23524\n",
       "Name: count, dtype: int64"
      ]
     },
     "execution_count": 26,
     "metadata": {},
     "output_type": "execute_result"
    }
   ],
   "source": [
    "# Next we will need to look at two groups: control and experimental\n",
    "df.test_group.value_counts()"
   ]
  },
  {
   "cell_type": "code",
   "execution_count": 45,
   "metadata": {},
   "outputs": [
    {
     "data": {
      "text/html": [
       "<div>\n",
       "<style scoped>\n",
       "    .dataframe tbody tr th:only-of-type {\n",
       "        vertical-align: middle;\n",
       "    }\n",
       "\n",
       "    .dataframe tbody tr th {\n",
       "        vertical-align: top;\n",
       "    }\n",
       "\n",
       "    .dataframe thead th {\n",
       "        text-align: right;\n",
       "    }\n",
       "</style>\n",
       "<table border=\"1\" class=\"dataframe\">\n",
       "  <thead>\n",
       "    <tr style=\"text-align: right;\">\n",
       "      <th></th>\n",
       "      <th>test_group</th>\n",
       "      <th>converted</th>\n",
       "      <th>count</th>\n",
       "    </tr>\n",
       "  </thead>\n",
       "  <tbody>\n",
       "    <tr>\n",
       "      <th>0</th>\n",
       "      <td>ad</td>\n",
       "      <td>False</td>\n",
       "      <td>550154</td>\n",
       "    </tr>\n",
       "    <tr>\n",
       "      <th>1</th>\n",
       "      <td>ad</td>\n",
       "      <td>True</td>\n",
       "      <td>14423</td>\n",
       "    </tr>\n",
       "    <tr>\n",
       "      <th>2</th>\n",
       "      <td>psa</td>\n",
       "      <td>False</td>\n",
       "      <td>23104</td>\n",
       "    </tr>\n",
       "    <tr>\n",
       "      <th>3</th>\n",
       "      <td>psa</td>\n",
       "      <td>True</td>\n",
       "      <td>420</td>\n",
       "    </tr>\n",
       "  </tbody>\n",
       "</table>\n",
       "</div>"
      ],
      "text/plain": [
       "  test_group  converted   count\n",
       "0         ad      False  550154\n",
       "1         ad       True   14423\n",
       "2        psa      False   23104\n",
       "3        psa       True     420"
      ]
     },
     "execution_count": 45,
     "metadata": {},
     "output_type": "execute_result"
    }
   ],
   "source": [
    "# Need to look at the number of people who bought the product based on their test group\n",
    "df.groupby(\"test_group\")[\"converted\"].value_counts().reset_index()"
   ]
  },
  {
   "cell_type": "code",
   "execution_count": 59,
   "metadata": {},
   "outputs": [
    {
     "name": "stdout",
     "output_type": "stream",
     "text": [
      " The conversion rate of control group is 1.785 %\n",
      " The conversion rate of experimental group is 2.555 %\n"
     ]
    }
   ],
   "source": [
    "conv_rate_control= round(df[df.test_group==\"psa\"][\"converted\"].mean()*100,3)\n",
    "conv_rate_ex= round(df[df.test_group==\"ad\"][\"converted\"].mean()*100,3)\n",
    "print(\" The conversion rate of control group is\",conv_rate_control,\"%\") \n",
    "print(\" The conversion rate of experimental group is\",conv_rate_ex,\"%\") "
   ]
  },
  {
   "cell_type": "markdown",
   "metadata": {},
   "source": [
    "Results:\n",
    "- From the conversion rates we can see that the ad seems to lead to higher conversion rate. The difference between groups is 0.77% \n",
    "- However, we can see that the sample size of the experimental group is much bigger than the size of the control group. The imbalanced sampling might introduce bias since the sample mean that is used to compare the groups is heavily influenced by the sample size. If one group has a small sample size the sample mean might not be a representative of the true mean of the population.\n",
    "- To deal with imbalanced samples, we can use resampling technique such as bootstratpping with replacement."
   ]
  },
  {
   "cell_type": "markdown",
   "metadata": {},
   "source": [
    "# 4.Bootstrapping"
   ]
  },
  {
   "cell_type": "code",
   "execution_count": 60,
   "metadata": {},
   "outputs": [],
   "source": [
    "# create two dataframes for experimental and control groups\n",
    "\n",
    "df_ex=df[df.test_group==\"ad\"]\n",
    "df_control=df[df.test_group==\"psa\"]"
   ]
  },
  {
   "cell_type": "markdown",
   "metadata": {},
   "source": [
    "I will use resampling with replacement, which means that the dataframe might have duplicates, which is similar to real-world random sampling from population. There will be 1000 bootstrap samples and after each iteration sample mean will be calculated. The sample size of bootstrap sample should be the same as in the original sample"
   ]
  },
  {
   "cell_type": "code",
   "execution_count": 65,
   "metadata": {},
   "outputs": [],
   "source": [
    "# creating an empty list to store sample means for experimental group\n",
    "\n",
    "mean_ex= []\n",
    "\n",
    "# create a loop to resample and calculate sample means 1000 times\n",
    "\n",
    "\n",
    "for i in range (1000):\n",
    "    sample_mean=df_ex.sample(frac=1, replace=True)[\"converted\"].mean()\n",
    "    mean_ex.append(sample_mean)\n",
    "\n",
    "df_mean_ex=pd.DataFrame(mean_ex)"
   ]
  },
  {
   "cell_type": "code",
   "execution_count": 74,
   "metadata": {},
   "outputs": [],
   "source": [
    "# creating an empty list to store sample means for experimental group\n",
    "\n",
    "mean_control= []\n",
    "\n",
    "# create a loop to resample and calculate sample means 1000 times\n",
    "\n",
    "\n",
    "for i in range (1000):\n",
    "    sample_mean=df_control.sample(frac=1, replace=True)[\"converted\"].mean()\n",
    "    mean_control.append(sample_mean)\n",
    "\n",
    "df_mean_control=pd.DataFrame(mean_control)"
   ]
  },
  {
   "cell_type": "code",
   "execution_count": 78,
   "metadata": {},
   "outputs": [
    {
     "data": {
      "text/plain": [
       "<Axes: ylabel='Density'>"
      ]
     },
     "execution_count": 78,
     "metadata": {},
     "output_type": "execute_result"
    },
    {
     "data": {
      "image/png": "[encoded data removed]",
      "text/plain": [
       "<Figure size 640x480 with 1 Axes>"
      ]
     },
     "metadata": {},
     "output_type": "display_data"
    },
    {
     "data": {
      "image/png": "[encoded data removed]",
      "text/plain": [
       "<Figure size 640x480 with 1 Axes>"
      ]
     },
     "metadata": {},
     "output_type": "display_data"
    }
   ],
   "source": [
    "df_mean_ex.plot(kind=\"density\")\n",
    "df_mean_control.plot(kind=\"density\")"
   ]
  },
  {
   "cell_type": "markdown",
   "metadata": {},
   "source": [
    "The distribution of two bootstrapped samples is approximately normal, which satisfies the assumption of normality and allows to conduct hypothesis testing."
   ]
  },
  {
   "cell_type": "markdown",
   "metadata": {},
   "source": [
    "# 5. Hypothesis testing"
   ]
  },
  {
   "cell_type": "markdown",
   "metadata": {},
   "source": [
    "Research question: Do ads improve conversion rate? \n",
    "\n",
    "- Null hypothesis: The sample mean of experimental group is less or equal to the sample mean of control group \n",
    "- Alternative hypothesis: The sample mean of experimental group is greater than the sample mean of control group"
   ]
  },
  {
   "cell_type": "code",
   "execution_count": 83,
   "metadata": {},
   "outputs": [
    {
     "data": {
      "text/plain": [
       "<Axes: ylabel='Density'>"
      ]
     },
     "execution_count": 83,
     "metadata": {},
     "output_type": "execute_result"
    },
    {
     "data": {
      "image/png": "[encoded data removed]",
      "text/plain": [
       "<Figure size 640x480 with 1 Axes>"
      ]
     },
     "metadata": {},
     "output_type": "display_data"
    }
   ],
   "source": [
    "### we need to look at the distribution of the difference between two groups\n",
    "df_mean_ex.columns=[\"conv_ex\"]\n",
    "df_mean_control.columns=[\"conv_control\"]\n",
    "\n",
    "df_comb_mean=pd.concat([df_mean_ex, df_mean_control], axis=1)\n",
    "df_comb_mean[\"diff\"]= (df_comb_mean[\"conv_ex\"]-df_comb_mean[\"conv_control\"])/df_comb_mean[\"conv_control\"]\n",
    "\n",
    "df_comb_mean[\"diff\"].plot(kind=\"density\")"
   ]
  },
  {
   "cell_type": "markdown",
   "metadata": {},
   "source": [
    "The difference between control and experimental group is approximately normal, so we can use parametric test. We can use z-test since the sample size is quite large even though the population variance is unknown "
   ]
  },
  {
   "cell_type": "code",
   "execution_count": 131,
   "metadata": {},
   "outputs": [
    {
     "name": "stdout",
     "output_type": "stream",
     "text": [
      "z score 12.406045496199052\n",
      "P Value 0.0\n"
     ]
    }
   ],
   "source": [
    "boot_ad_converted=df_comb_mean['conv_ex']\n",
    "boot_psa_converted=df_comb_mean['conv_control']\n",
    "\n",
    "boot_ad_mean=boot_ad_converted.mean()\n",
    "boot_psa_mean=boot_psa_converted.mean()\n",
    "boot_ad_std=boot_ad_converted.std()\n",
    "boot_psa_std=boot_psa_converted.std()\n",
    "\n",
    "pooled_std=np.sqrt((boot_ad_std**2+boot_psa_std**2)/2)\n",
    "z_score=(boot_ad_mean-boot_psa_mean)/pooled_std\n",
    "p_value=1-stats.norm.cdf(z_score)\n",
    "\n",
    "print('z score',z_score)\n",
    "print('P Value',p_value)\n"
   ]
  },
  {
   "cell_type": "markdown",
   "metadata": {},
   "source": [
    "The results:\n",
    "- the p value is 0, this means that we reject null hypothesis. This means that that the conversion rate of ad group is significantly greater than the conversion rate of psa group."
   ]
  }
 ],
 "metadata": {
  "kernelspec": {
   "display_name": "Python 3",
   "language": "python",
   "name": "python3"
  },
  "language_info": {
   "codemirror_mode": {
    "name": "ipython",
    "version": 3
   },
   "file_extension": ".py",
   "mimetype": "text/x-python",
   "name": "python",
   "nbconvert_exporter": "python",
   "pygments_lexer": "ipython3",
   "version": "3.8.5"
  },
  "orig_nbformat": 4
 },
 "nbformat": 4,
 "nbformat_minor": 2
}
